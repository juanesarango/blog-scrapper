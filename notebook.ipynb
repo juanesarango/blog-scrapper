{
 "cells": [
  {
   "cell_type": "code",
   "execution_count": 1,
   "metadata": {},
   "outputs": [],
   "source": [
    "from selenium import webdriver \n",
    "from selenium.webdriver.common.by import By \n",
    "from selenium.webdriver.support.ui import WebDriverWait \n",
    "from selenium.webdriver.support import expected_conditions as EC \n",
    "from selenium.common.exceptions import TimeoutException\n"
   ]
  },
  {
   "cell_type": "code",
   "execution_count": 3,
   "metadata": {},
   "outputs": [],
   "source": [
    "option = webdriver.ChromeOptions()\n",
    "option.add_argument('— incognito')"
   ]
  },
  {
   "cell_type": "code",
   "execution_count": 24,
   "metadata": {},
   "outputs": [],
   "source": [
    "url = \"https://github.com/juanesarango\"\n",
    "# url = \"http://web.archive.org/web/20140411063005/http://www.cultureclimax.com:80/\"\n",
    "browser = webdriver.Chrome(executable_path='/Applications/chromedriver 2', chrome_options=option)\n",
    "browser.get(url)\n",
    "\n",
    "# Wait 20 seconds for page to load\n",
    "timeout = 20\n",
    "try:\n",
    "    WebDriverWait(browser, timeout).until(EC.visibility_of_element_located((By.XPATH, \"//img[@class='avatar width-full rounded-2']\")))\n",
    "except TimeoutException:\n",
    "    print(\"Timed out waiting for page to load\")\n",
    "    browser.quit()"
   ]
  },
  {
   "cell_type": "code",
   "execution_count": 25,
   "metadata": {},
   "outputs": [
    {
     "name": "stdout",
     "output_type": "stream",
     "text": [
      "titles:\n",
      "['aind-sudoku-project', 'eagle-credits', 'github-battle', 'heroku-django-21', 'teachme-pb', 'x-graph'] \n",
      "\n"
     ]
    }
   ],
   "source": [
    "# find_elements_by_xpath returns an array of selenium objects.\n",
    "titles_element = browser.find_elements_by_xpath(\"//a[@class='text-bold']\")\n",
    "\n",
    "# use list comprehension to get the actual repo titles and not the selenium objects.\n",
    "titles = [x.text for x in titles_element]\n",
    "# print out all the titles.\n",
    "print('titles:')\n",
    "print(titles, '\\n')\n",
    "\n"
   ]
  },
  {
   "cell_type": "code",
   "execution_count": 26,
   "metadata": {},
   "outputs": [
    {
     "name": "stdout",
     "output_type": "stream",
     "text": [
      "languages:\n",
      "['Python', 'JavaScript', 'JavaScript', 'Python', 'HTML', 'JavaScript'] \n",
      "\n"
     ]
    }
   ],
   "source": [
    "language_element = browser.find_elements_by_xpath(\"//p[@class='mb-0 f6 text-gray']\")\n",
    "languages = [x.text for x in language_element]\n",
    "print(\"languages:\")\n",
    "print(languages, '\\n')\n"
   ]
  },
  {
   "cell_type": "code",
   "execution_count": 27,
   "metadata": {},
   "outputs": [
    {
     "name": "stdout",
     "output_type": "stream",
     "text": [
      "RepoName : Language\n",
      "aind-sudoku-project: Python \n",
      "\n",
      "RepoName : Language\n",
      "eagle-credits: JavaScript \n",
      "\n",
      "RepoName : Language\n",
      "github-battle: JavaScript \n",
      "\n",
      "RepoName : Language\n",
      "heroku-django-21: Python \n",
      "\n",
      "RepoName : Language\n",
      "teachme-pb: HTML \n",
      "\n",
      "RepoName : Language\n",
      "x-graph: JavaScript \n",
      "\n"
     ]
    }
   ],
   "source": [
    "for title, language in zip(titles, languages):\n",
    "    print(\"RepoName : Language\")\n",
    "    print(title + \": \" + language, '\\n')"
   ]
  },
  {
   "cell_type": "code",
   "execution_count": 28,
   "metadata": {},
   "outputs": [],
   "source": [
    "browser.quit()"
   ]
  },
  {
   "cell_type": "code",
   "execution_count": null,
   "metadata": {},
   "outputs": [],
   "source": []
  }
 ],
 "metadata": {
  "kernelspec": {
   "display_name": "Python 3",
   "language": "python",
   "name": "python3"
  },
  "language_info": {
   "codemirror_mode": {
    "name": "ipython",
    "version": 3
   },
   "file_extension": ".py",
   "mimetype": "text/x-python",
   "name": "python",
   "nbconvert_exporter": "python",
   "pygments_lexer": "ipython3",
   "version": "3.5.5"
  }
 },
 "nbformat": 4,
 "nbformat_minor": 2
}
